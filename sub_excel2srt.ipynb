{
 "cells": [
  {
   "cell_type": "code",
   "execution_count": null,
   "metadata": {},
   "outputs": [],
   "source": [
    "import pandas as pd\n",
    "from datetime import timedelta"
   ]
  },
  {
   "cell_type": "code",
   "execution_count": null,
   "metadata": {},
   "outputs": [],
   "source": [
    "excel_file = \"C:/Users/ANA/Desktop/excel2str/subtitle_to_srt/sub_excel.xlsx\"\n",
    "srt_file = \"sub_srt.srt\"\n",
    "\n",
    "row_start = 26\n",
    "row_end = 972\n",
    "add_hs   = 0 \n",
    "add_min  = 0 \n",
    "add_sec  = 2\n",
    "add_msec = 300 # en milisegundos\n",
    "sec_linea_final = 30\n",
    "\n",
    "specific_rows = list(range(26,972))\n",
    "usecols = \"B:F\"\n",
    "\n",
    "xlsx_df = pd.read_excel(excel_file, usecols=\"B:F\", skiprows = lambda x: x not in specific_rows)"
   ]
  },
  {
   "cell_type": "code",
   "execution_count": null,
   "metadata": {},
   "outputs": [],
   "source": [
    "from datetime import datetime, timedelta\n",
    "\n",
    "def add_time(hour,min,secs, add_hs=0, add_min=0, add_sec=0, add_msec=0):\n",
    "    d = hour + ':' + min + ':' + secs\n",
    "    dt = datetime.strptime(d, '%H:%M:%S.%f')\n",
    "    result = dt + timedelta(hours   = add_hs,\n",
    "                            minutes = add_min,\n",
    "                            seconds = add_sec,\n",
    "                            milliseconds = add_msec)\n",
    "    letter = (\"%02d:%02d:%02d,%s\" % (result.minute, result.minute, result.second, str(result.microsecond)[:2]))\n",
    "    return letter"
   ]
  },
  {
   "cell_type": "code",
   "execution_count": null,
   "metadata": {},
   "outputs": [],
   "source": [
    "file_object  = open(srt_file, \"w+\")\n",
    "\n",
    "line = \"\"\n",
    "subtitle_esp = \"\"\n",
    "for i in range(0,len(specific_rows)-2):\n",
    "    print(i)\n",
    "    print(len(specific_rows)-3)\n",
    "    if(i == len(specific_rows)-3):\n",
    "        line = str(xlsx_df[\"연번\"][i]) + \"\\n\"\n",
    "        time_line = xlsx_df[\"타임코드(In)\"][i].split(\":\")\n",
    "        time_line_added = add_time(time_line[0],time_line[1],time_line[2],\n",
    "                                    add_hs   = add_hs ,\n",
    "                                    add_min  = add_min,\n",
    "                                    add_sec  = add_sec,\n",
    "                                    add_msec = add_msec)\n",
    "        line+= time_line_added + \" --> \"\n",
    "        time_line_added = add_time(time_line[0],time_line[1],time_line[2],\n",
    "                                    add_hs   = add_hs ,\n",
    "                                    add_min  = add_min,\n",
    "                                    add_sec  = add_sec+sec_linea_final,\n",
    "                                    add_msec = add_msec)\n",
    "        line+= time_line_added + \"\\n\"\n",
    "        line+= str(xlsx_df[\"번역문\"][i]) + \"\\n\"\n",
    "        print(line)\n",
    "        file_object.write(line)\n",
    "        break\n",
    "\n",
    "    if(pd.isna(xlsx_df[\"타임코드(In)\"][i])):\n",
    "        subtitle_esp += str(xlsx_df[\"번역문\"][i]) + \"\\n\"\n",
    "    else:\n",
    "        line = str(xlsx_df[\"연번\"][i]) + \"\\n\"\n",
    "        time_line = xlsx_df[\"타임코드(In)\"][i].split(\":\")\n",
    "        time_line_added = add_time(time_line[0],time_line[1],time_line[2],\n",
    "                                    add_hs   = add_hs ,\n",
    "                                    add_min  = add_min,\n",
    "                                    add_sec  = add_sec,\n",
    "                                    add_msec = add_msec)\n",
    "        line+= time_line_added + \" --> \"\n",
    "        subtitle_esp = str(xlsx_df[\"번역문\"][i]) + \"\\n\"\n",
    "    if(pd.isna(xlsx_df[\"타임코드(In)\"][i+1])==False):\n",
    "        time_line = xlsx_df[\"타임코드(In)\"][i+1].split(\":\")\n",
    "        time_line_added = add_time(time_line[0],time_line[1],time_line[2],\n",
    "                                    add_hs   = add_hs ,\n",
    "                                    add_min  = add_min,\n",
    "                                    add_sec  = add_sec,\n",
    "                                    add_msec = add_msec)\n",
    "        line+= time_line_added + \"\\n\"\n",
    "        # line+= xlsx_df[\"타임코드(In)\"][i+1]+\"\\n\"\n",
    "        line+= subtitle_esp+\"\\n\"\n",
    "        print(line)\n",
    "        file_object.write(line)"
   ]
  },
  {
   "cell_type": "code",
   "execution_count": null,
   "metadata": {},
   "outputs": [],
   "source": [
    "file_object.close()"
   ]
  }
 ],
 "metadata": {
  "kernelspec": {
   "display_name": "base",
   "language": "python",
   "name": "python3"
  },
  "language_info": {
   "codemirror_mode": {
    "name": "ipython",
    "version": 3
   },
   "file_extension": ".py",
   "mimetype": "text/x-python",
   "name": "python",
   "nbconvert_exporter": "python",
   "pygments_lexer": "ipython3",
   "version": "3.9.12"
  },
  "orig_nbformat": 4
 },
 "nbformat": 4,
 "nbformat_minor": 2
}
