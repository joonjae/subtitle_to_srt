{
 "cells": [
  {
   "cell_type": "code",
   "execution_count": 15,
   "metadata": {},
   "outputs": [],
   "source": [
    "import pandas as pd\n",
    "from datetime import timedelta"
   ]
  },
  {
   "cell_type": "code",
   "execution_count": 16,
   "metadata": {},
   "outputs": [],
   "source": [
    "excel_file = \"sub_excel.xlsx\"\n",
    "# excel_file = \"C:/Users/ANA/Desktop/excel2str/subtitle_to_srt/sub_excel.xlsx\"\n",
    "srt_file = \"sub_srt.srt\"\n",
    "\n",
    "row_start = 26\n",
    "row_end = 972\n",
    "add_hs   = 0 \n",
    "add_min  = 0\n",
    "add_sec  = -34\n",
    "add_msec = 0 # en milisegundos\n",
    "sec_linea_final = 30\n",
    "\n",
    "specific_rows = list(range(26,972))\n",
    "usecols = \"B:F\"\n",
    "\n",
    "xlsx_df = pd.read_excel(excel_file, usecols=\"B:F\", skiprows = lambda x: x not in specific_rows)"
   ]
  },
  {
   "cell_type": "code",
   "execution_count": 17,
   "metadata": {},
   "outputs": [],
   "source": [
    "from datetime import datetime, timedelta\n",
    "\n",
    "def add_time(hour,min,secs, add_hs=0, add_min=0, add_sec=0, add_msec=0):\n",
    "    d = str(int(hour)+add_hs) + ':' + \\\n",
    "        str(int(min)+add_min) + ':' + \\\n",
    "        str(float(secs)+add_sec)[:2]\n",
    "    dt = datetime.strptime(d, '%H:%M:%S.%f')\n",
    "    result = dt\n",
    "    # result = dt + timedelta(hours   = add_hs,\n",
    "    #                         minutes = add_min,\n",
    "    #                         seconds = add_sec,\n",
    "    #                         milliseconds = add_msec)\n",
    "    letter = (\"%02d:%02d:%02d,%s\" % (result.minute, result.minute, result.second, str(result.microsecond)[:2]))\n",
    "    return letter\n",
    "    # return d"
   ]
  },
  {
   "cell_type": "code",
   "execution_count": 18,
   "metadata": {},
   "outputs": [
    {
     "ename": "ValueError",
     "evalue": "time data '0:0:20' does not match format '%H:%M:%S.%f'",
     "output_type": "error",
     "traceback": [
      "\u001b[1;31m---------------------------------------------------------------------------\u001b[0m",
      "\u001b[1;31mValueError\u001b[0m                                Traceback (most recent call last)",
      "Cell \u001b[1;32mIn[18], line 33\u001b[0m\n\u001b[0;32m     31\u001b[0m line \u001b[39m=\u001b[39m \u001b[39mstr\u001b[39m(\u001b[39mint\u001b[39m(xlsx_df[\u001b[39m\"\u001b[39m\u001b[39m연번\u001b[39m\u001b[39m\"\u001b[39m][i])) \u001b[39m+\u001b[39m \u001b[39m\"\u001b[39m\u001b[39m\\n\u001b[39;00m\u001b[39m\"\u001b[39m\n\u001b[0;32m     32\u001b[0m time_line \u001b[39m=\u001b[39m xlsx_df[\u001b[39m\"\u001b[39m\u001b[39m타임코드(In)\u001b[39m\u001b[39m\"\u001b[39m][i]\u001b[39m.\u001b[39msplit(\u001b[39m\"\u001b[39m\u001b[39m:\u001b[39m\u001b[39m\"\u001b[39m)\n\u001b[1;32m---> 33\u001b[0m time_line_added \u001b[39m=\u001b[39m add_time(time_line[\u001b[39m0\u001b[39;49m],time_line[\u001b[39m1\u001b[39;49m],time_line[\u001b[39m2\u001b[39;49m],\n\u001b[0;32m     34\u001b[0m                             add_hs   \u001b[39m=\u001b[39;49m add_hs ,\n\u001b[0;32m     35\u001b[0m                             add_min  \u001b[39m=\u001b[39;49m add_min,\n\u001b[0;32m     36\u001b[0m                             add_sec  \u001b[39m=\u001b[39;49m add_sec,\n\u001b[0;32m     37\u001b[0m                             add_msec \u001b[39m=\u001b[39;49m add_msec)\n\u001b[0;32m     38\u001b[0m line\u001b[39m+\u001b[39m\u001b[39m=\u001b[39m time_line_added \u001b[39m+\u001b[39m \u001b[39m\"\u001b[39m\u001b[39m --> \u001b[39m\u001b[39m\"\u001b[39m\n\u001b[0;32m     39\u001b[0m subtitle_esp \u001b[39m=\u001b[39m \u001b[39mstr\u001b[39m(xlsx_df[\u001b[39m\"\u001b[39m\u001b[39m번역문\u001b[39m\u001b[39m\"\u001b[39m][i]) \u001b[39m+\u001b[39m \u001b[39m\"\u001b[39m\u001b[39m\\n\u001b[39;00m\u001b[39m\"\u001b[39m\n",
      "Cell \u001b[1;32mIn[17], line 7\u001b[0m, in \u001b[0;36madd_time\u001b[1;34m(hour, min, secs, add_hs, add_min, add_sec, add_msec)\u001b[0m\n\u001b[0;32m      3\u001b[0m \u001b[39mdef\u001b[39;00m \u001b[39madd_time\u001b[39m(hour,\u001b[39mmin\u001b[39m,secs, add_hs\u001b[39m=\u001b[39m\u001b[39m0\u001b[39m, add_min\u001b[39m=\u001b[39m\u001b[39m0\u001b[39m, add_sec\u001b[39m=\u001b[39m\u001b[39m0\u001b[39m, add_msec\u001b[39m=\u001b[39m\u001b[39m0\u001b[39m):\n\u001b[0;32m      4\u001b[0m     d \u001b[39m=\u001b[39m \u001b[39mstr\u001b[39m(\u001b[39mint\u001b[39m(hour)\u001b[39m+\u001b[39madd_hs) \u001b[39m+\u001b[39m \u001b[39m'\u001b[39m\u001b[39m:\u001b[39m\u001b[39m'\u001b[39m \u001b[39m+\u001b[39m \\\n\u001b[0;32m      5\u001b[0m         \u001b[39mstr\u001b[39m(\u001b[39mint\u001b[39m(\u001b[39mmin\u001b[39m)\u001b[39m+\u001b[39madd_min) \u001b[39m+\u001b[39m \u001b[39m'\u001b[39m\u001b[39m:\u001b[39m\u001b[39m'\u001b[39m \u001b[39m+\u001b[39m \\\n\u001b[0;32m      6\u001b[0m         \u001b[39mstr\u001b[39m(\u001b[39mfloat\u001b[39m(secs)\u001b[39m+\u001b[39madd_sec)[:\u001b[39m2\u001b[39m]\n\u001b[1;32m----> 7\u001b[0m     dt \u001b[39m=\u001b[39m datetime\u001b[39m.\u001b[39;49mstrptime(d, \u001b[39m'\u001b[39;49m\u001b[39m%\u001b[39;49m\u001b[39mH:\u001b[39;49m\u001b[39m%\u001b[39;49m\u001b[39mM:\u001b[39;49m\u001b[39m%\u001b[39;49m\u001b[39mS.\u001b[39;49m\u001b[39m%f\u001b[39;49;00m\u001b[39m'\u001b[39;49m)\n\u001b[0;32m      8\u001b[0m     result \u001b[39m=\u001b[39m dt\n\u001b[0;32m      9\u001b[0m     \u001b[39m# result = dt + timedelta(hours   = add_hs,\u001b[39;00m\n\u001b[0;32m     10\u001b[0m     \u001b[39m#                         minutes = add_min,\u001b[39;00m\n\u001b[0;32m     11\u001b[0m     \u001b[39m#                         seconds = add_sec,\u001b[39;00m\n\u001b[0;32m     12\u001b[0m     \u001b[39m#                         milliseconds = add_msec)\u001b[39;00m\n",
      "File \u001b[1;32mc:\\Users\\leeca\\anaconda3\\lib\\_strptime.py:568\u001b[0m, in \u001b[0;36m_strptime_datetime\u001b[1;34m(cls, data_string, format)\u001b[0m\n\u001b[0;32m    565\u001b[0m \u001b[39mdef\u001b[39;00m \u001b[39m_strptime_datetime\u001b[39m(\u001b[39mcls\u001b[39m, data_string, \u001b[39mformat\u001b[39m\u001b[39m=\u001b[39m\u001b[39m\"\u001b[39m\u001b[39m%a\u001b[39;00m\u001b[39m \u001b[39m\u001b[39m%\u001b[39m\u001b[39mb \u001b[39m\u001b[39m%d\u001b[39;00m\u001b[39m \u001b[39m\u001b[39m%\u001b[39m\u001b[39mH:\u001b[39m\u001b[39m%\u001b[39m\u001b[39mM:\u001b[39m\u001b[39m%\u001b[39m\u001b[39mS \u001b[39m\u001b[39m%\u001b[39m\u001b[39mY\u001b[39m\u001b[39m\"\u001b[39m):\n\u001b[0;32m    566\u001b[0m     \u001b[39m\"\"\"Return a class cls instance based on the input string and the\u001b[39;00m\n\u001b[0;32m    567\u001b[0m \u001b[39m    format string.\"\"\"\u001b[39;00m\n\u001b[1;32m--> 568\u001b[0m     tt, fraction, gmtoff_fraction \u001b[39m=\u001b[39m _strptime(data_string, \u001b[39mformat\u001b[39;49m)\n\u001b[0;32m    569\u001b[0m     tzname, gmtoff \u001b[39m=\u001b[39m tt[\u001b[39m-\u001b[39m\u001b[39m2\u001b[39m:]\n\u001b[0;32m    570\u001b[0m     args \u001b[39m=\u001b[39m tt[:\u001b[39m6\u001b[39m] \u001b[39m+\u001b[39m (fraction,)\n",
      "File \u001b[1;32mc:\\Users\\leeca\\anaconda3\\lib\\_strptime.py:349\u001b[0m, in \u001b[0;36m_strptime\u001b[1;34m(data_string, format)\u001b[0m\n\u001b[0;32m    347\u001b[0m found \u001b[39m=\u001b[39m format_regex\u001b[39m.\u001b[39mmatch(data_string)\n\u001b[0;32m    348\u001b[0m \u001b[39mif\u001b[39;00m \u001b[39mnot\u001b[39;00m found:\n\u001b[1;32m--> 349\u001b[0m     \u001b[39mraise\u001b[39;00m \u001b[39mValueError\u001b[39;00m(\u001b[39m\"\u001b[39m\u001b[39mtime data \u001b[39m\u001b[39m%r\u001b[39;00m\u001b[39m does not match format \u001b[39m\u001b[39m%r\u001b[39;00m\u001b[39m\"\u001b[39m \u001b[39m%\u001b[39m\n\u001b[0;32m    350\u001b[0m                      (data_string, \u001b[39mformat\u001b[39m))\n\u001b[0;32m    351\u001b[0m \u001b[39mif\u001b[39;00m \u001b[39mlen\u001b[39m(data_string) \u001b[39m!=\u001b[39m found\u001b[39m.\u001b[39mend():\n\u001b[0;32m    352\u001b[0m     \u001b[39mraise\u001b[39;00m \u001b[39mValueError\u001b[39;00m(\u001b[39m\"\u001b[39m\u001b[39munconverted data remains: \u001b[39m\u001b[39m%s\u001b[39;00m\u001b[39m\"\u001b[39m \u001b[39m%\u001b[39m\n\u001b[0;32m    353\u001b[0m                       data_string[found\u001b[39m.\u001b[39mend():])\n",
      "\u001b[1;31mValueError\u001b[0m: time data '0:0:20' does not match format '%H:%M:%S.%f'"
     ]
    }
   ],
   "source": [
    "file_object  = open(srt_file, \"w+\")\n",
    "\n",
    "line = \"\"\n",
    "subtitle_esp = \"\"\n",
    "for i in range(0,len(specific_rows)-2):\n",
    "    # print(i)\n",
    "    # print(len(specific_rows)-3)\n",
    "    if(i == len(specific_rows)-3):\n",
    "        line = str(int(xlsx_df[\"연번\"][i])) + \"\\n\"\n",
    "        time_line = xlsx_df[\"타임코드(In)\"][i].split(\":\")\n",
    "        time_line_added = add_time(time_line[0],time_line[1],time_line[2],\n",
    "                                    add_hs   = add_hs ,\n",
    "                                    add_min  = add_min,\n",
    "                                    add_sec  = add_sec,\n",
    "                                    add_msec = add_msec)\n",
    "        line+= time_line_added + \" --> \"\n",
    "        time_line_added = add_time(time_line[0],time_line[1],time_line[2],\n",
    "                                    add_hs   = add_hs ,\n",
    "                                    add_min  = add_min,\n",
    "                                    add_sec  = add_sec+sec_linea_final,\n",
    "                                    add_msec = add_msec)\n",
    "        line+= time_line_added + \"\\n\"\n",
    "        line+= str(xlsx_df[\"번역문\"][i]) + \"\\n\"\n",
    "        # print(line)\n",
    "        file_object.write(line)\n",
    "        break\n",
    "\n",
    "    if(pd.isna(xlsx_df[\"타임코드(In)\"][i])):\n",
    "        subtitle_esp += str(xlsx_df[\"번역문\"][i]) + \"\\n\"\n",
    "    else:\n",
    "        line = str(int(xlsx_df[\"연번\"][i])) + \"\\n\"\n",
    "        time_line = xlsx_df[\"타임코드(In)\"][i].split(\":\")\n",
    "        time_line_added = add_time(time_line[0],time_line[1],time_line[2],\n",
    "                                    add_hs   = add_hs ,\n",
    "                                    add_min  = add_min,\n",
    "                                    add_sec  = add_sec,\n",
    "                                    add_msec = add_msec)\n",
    "        line+= time_line_added + \" --> \"\n",
    "        subtitle_esp = str(xlsx_df[\"번역문\"][i]) + \"\\n\"\n",
    "    if(pd.isna(xlsx_df[\"타임코드(In)\"][i+1])==False):\n",
    "        time_line = xlsx_df[\"타임코드(In)\"][i+1].split(\":\")\n",
    "        time_line_added = add_time(time_line[0],time_line[1],time_line[2],\n",
    "                                    add_hs   = add_hs ,\n",
    "                                    add_min  = add_min,\n",
    "                                    add_sec  = add_sec,\n",
    "                                    add_msec = add_msec)\n",
    "        line+= time_line_added + \"\\n\"\n",
    "        # line+= xlsx_df[\"타임코드(In)\"][i+1]+\"\\n\"\n",
    "        line+= subtitle_esp+\"\\n\"\n",
    "        # print(line)\n",
    "        file_object.write(line)"
   ]
  },
  {
   "cell_type": "code",
   "execution_count": null,
   "metadata": {},
   "outputs": [],
   "source": [
    "file_object.close()"
   ]
  }
 ],
 "metadata": {
  "kernelspec": {
   "display_name": "base",
   "language": "python",
   "name": "python3"
  },
  "language_info": {
   "codemirror_mode": {
    "name": "ipython",
    "version": 3
   },
   "file_extension": ".py",
   "mimetype": "text/x-python",
   "name": "python",
   "nbconvert_exporter": "python",
   "pygments_lexer": "ipython3",
   "version": "3.10.9"
  },
  "orig_nbformat": 4
 },
 "nbformat": 4,
 "nbformat_minor": 2
}
