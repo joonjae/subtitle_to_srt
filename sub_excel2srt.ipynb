{
 "cells": [
  {
   "cell_type": "code",
   "execution_count": 1,
   "metadata": {},
   "outputs": [],
   "source": [
    "import pandas as pd\n",
    "from datetime import timedelta"
   ]
  },
  {
   "cell_type": "code",
   "execution_count": 2,
   "metadata": {},
   "outputs": [],
   "source": [
    "excel_file = \"C:/Users/leeca/OneDrive/바탕 화면/JoonJae/subtitle_excel2srt/sub_excel.xlsx\"\n",
    "\n",
    "row_start = 26\n",
    "row_end = 972\n",
    "millisec_to_add = 9000 # en milisegundos\n",
    "\n",
    "specific_rows = list(range(26,972))\n",
    "usecols = \"B:F\"\n",
    "\n",
    "xlsx_df = pd.read_excel(excel_file, usecols=\"B:F\", skiprows = lambda x: x not in specific_rows)"
   ]
  },
  {
   "cell_type": "code",
   "execution_count": 3,
   "metadata": {},
   "outputs": [],
   "source": [
    "# xlsx_df.head(10)"
   ]
  },
  {
   "cell_type": "code",
   "execution_count": 4,
   "metadata": {},
   "outputs": [],
   "source": [
    "srt_file = \"sub_srt.srt\"\n",
    "\n",
    "file_object  = open(\"srt_file\", \"w+\")"
   ]
  },
  {
   "cell_type": "code",
   "execution_count": 5,
   "metadata": {},
   "outputs": [],
   "source": [
    "from datetime import datetime, timedelta\n",
    "\n",
    "def add_time(hour,min,secs, milliseconds_to_add):\n",
    "# d = '09:30:00.123'\n",
    "    d = hour + ':' + min + ':' + secs\n",
    "    # 👇️ convert string to datetime object\n",
    "    dt = datetime.strptime(d, '%H:%M:%S.%f')\n",
    "\n",
    "    # print(dt)  # 👉️ 2023-11-24 09:30:00.123\n",
    "\n",
    "    result = dt + timedelta(milliseconds = milliseconds_to_add)\n",
    "    # print(type((result.microsecond)))\n",
    "    letter = (\"%02d:%02d:%02d,%s\" % (result.minute, result.minute, result.second, str(result.microsecond)[:2]))\n",
    "    # print(type(letter))\n",
    "    # print((letter))\n",
    "    return letter\n"
   ]
  },
  {
   "cell_type": "code",
   "execution_count": 6,
   "metadata": {},
   "outputs": [],
   "source": [
    "line = \"\"\n",
    "for i in range(0,5):\n",
    "    subtitle_esp = \"\"\n",
    "    if(pd.isna(xlsx_df[\"연번\"][i])):\n",
    "        subtitle_esp += xlsx_df[\"번역문\"][i] + \"\\n\"\n",
    "    else:\n",
    "        line = str(xlsx_df[\"연번\"][i]) + \"\\n\"\n",
    "        time_line = xlsx_df[\"타임코드(In)\"][i].split(\":\")\n",
    "        time_line_added = add_time(time_line[0],time_line[1],time_line[2],millisec_to_add)\n",
    "        line+= time_line_added + \" --> \"\n",
    "\n",
    "        subtitle_esp = xlsx_df[\"번역문\"][i] + \"\\n\"\n",
    "    # print(line)\n",
    "    if(pd.isna(xlsx_df[\"연번\"][i+1])==False):\n",
    "        time_line = xlsx_df[\"타임코드(In)\"][i+1].split(\":\")\n",
    "        time_line_added = add_time(time_line[0],time_line[1],time_line[2],millisec_to_add)\n",
    "        line+= time_line_added + \"\\n\"\n",
    "        # line+= xlsx_df[\"타임코드(In)\"][i+1]+\"\\n\"\n",
    "    line+= subtitle_esp+\"\\n\"\n",
    "    file_object.write(line)\n",
    "\n",
    "\n",
    "\n",
    "file_object.close()"
   ]
  }
 ],
 "metadata": {
  "kernelspec": {
   "display_name": "base",
   "language": "python",
   "name": "python3"
  },
  "language_info": {
   "codemirror_mode": {
    "name": "ipython",
    "version": 3
   },
   "file_extension": ".py",
   "mimetype": "text/x-python",
   "name": "python",
   "nbconvert_exporter": "python",
   "pygments_lexer": "ipython3",
   "version": "3.10.9"
  },
  "orig_nbformat": 4
 },
 "nbformat": 4,
 "nbformat_minor": 2
}
